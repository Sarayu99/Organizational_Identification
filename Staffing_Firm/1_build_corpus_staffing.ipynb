{
 "cells": [
  {
   "cell_type": "markdown",
   "id": "87b32412-6e62-4d1b-9915-ad521c03625e",
   "metadata": {},
   "source": [
    "**Company** : <br>\n",
    "Staffing Firm\n",
    "\n",
    "**Notebook Function** : <br>\n",
    "    This notebook walks through the steps to build the corpus for the staffing firm.\n",
    "\n",
    "**Author(s)** : <br>\n",
    "Lara Yang, Sarayu Anshuman"
   ]
  },
  {
   "cell_type": "markdown",
   "id": "459ec579-9ea9-47dd-a52f-ff4c9885106b",
   "metadata": {},
   "source": [
    "Import libraries"
   ]
  },
  {
   "cell_type": "code",
   "execution_count": null,
   "id": "feea9b60-fa9a-45bc-8ad5-99957b6127e9",
   "metadata": {},
   "outputs": [],
   "source": [
    "import os\n",
    "import ujson as json"
   ]
  },
  {
   "cell_type": "markdown",
   "id": "23d90676-dc4d-4640-8488-9643cb5c5371",
   "metadata": {},
   "source": [
    "Initialize variables"
   ]
  },
  {
   "cell_type": "code",
   "execution_count": null,
   "id": "f80eee37-74f4-42d0-ab52-35dcff500f44",
   "metadata": {},
   "outputs": [],
   "source": [
    "total_emails = 0\n",
    "non_english = 0\n",
    "english = 0\n",
    "ling_thres = 0.80 #set to 0.8"
   ]
  },
  {
   "cell_type": "markdown",
   "id": "d34f2e62-621c-46b0-a5df-cc7de5e1de4c",
   "metadata": {},
   "source": [
    "Set the directories"
   ]
  },
  {
   "cell_type": "code",
   "execution_count": null,
   "id": "01681356-327a-4f62-9e72-9ed9e4ef375b",
   "metadata": {},
   "outputs": [],
   "source": [
    "email_dir = \"/zfs/projects/faculty/amirgo-identification/email_data/\"\n",
    "out_dir = \"/zfs/projects/faculty/amirgo-identification/identification-Sarayu/staffing/training/\"\n",
    "email_file = os.path.join(email_dir, 'MessagesHashed.jsonl')\n",
    "corpus_file = os.path.join(out_dir, 'corpus_high_prob_eng_{}.txt'.format(str(ling_thres).replace(\".\", \"\")))"
   ]
  },
  {
   "cell_type": "markdown",
   "id": "98bd1468-10a7-4f3c-8f86-0c08261614da",
   "metadata": {},
   "source": [
    "Process emails"
   ]
  },
  {
   "cell_type": "code",
   "execution_count": null,
   "id": "b565dcf5-67ee-4a0f-a44f-bcb19b0b6770",
   "metadata": {},
   "outputs": [],
   "source": [
    "def read_emails(in_file, out_file):\n",
    "    output_file = open(out_file, 'w')\n",
    "    with open(in_file, encoding='utf-8') as f:\n",
    "        for i, line in enumerate(f):\n",
    "            if i % 1000000 == 0:\n",
    "                print(\"Processed {} emails\".format(i))\n",
    "            global total_emails, english, non_english\n",
    "            total_emails += 1\n",
    "            email = json.loads(line)\n",
    "            lang = email['l']\n",
    "            body = email['hb'].strip()\n",
    "            if len(body) > 0:\n",
    "                # original - if lang[0] == \"__label__en\" and (lang[1] > 0.5 or len(email['liwc']) > 0):\n",
    "                if lang[0] == \"__label__en\" and (lang[1] > ling_thres or len(email['liwc']) > 5):\n",
    "                    body = body.replace(\"\\n\", \" \").replace(\"SENT_END\", \"\")\n",
    "                    # Code in GloVe-master (get_word function in common.c) seems to imply that newline characters are expected to be separate from text\n",
    "                    output_file.write(body + ' \\n ')\n",
    "                    english += 1\n",
    "                elif len(lang[0]) > 0:\n",
    "                    non_english += 1\n",
    "    output_file.close()\n",
    "    return\n",
    "\n",
    "if __name__ == '__main__':\n",
    "    read_emails(email_file, corpus_file)\n",
    "    print(\"\"\"Out of {} emails processed, {} emails were non_empty.\\n\n",
    "        {} English emails were written to corpus.txt. {} emails non-English emails are discarded.\"\"\".format(total_emails, english+non_english, english, non_english))"
   ]
  }
 ],
 "metadata": {
  "kernelspec": {
   "display_name": "Python 3 (ipykernel)",
   "language": "python",
   "name": "python3"
  },
  "language_info": {
   "codemirror_mode": {
    "name": "ipython",
    "version": 3
   },
   "file_extension": ".py",
   "mimetype": "text/x-python",
   "name": "python",
   "nbconvert_exporter": "python",
   "pygments_lexer": "ipython3",
   "version": "3.11.9"
  }
 },
 "nbformat": 4,
 "nbformat_minor": 5
}
